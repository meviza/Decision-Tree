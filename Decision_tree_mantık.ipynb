{
 "metadata": {
  "language_info": {
   "codemirror_mode": {
    "name": "ipython",
    "version": 3
   },
   "file_extension": ".py",
   "mimetype": "text/x-python",
   "name": "python",
   "nbconvert_exporter": "python",
   "pygments_lexer": "ipython3",
   "version": "3.8.8"
  },
  "orig_nbformat": 2,
  "kernelspec": {
   "name": "python388jvsc74a57bd0b3ba2566441a7c06988d0923437866b63cedc61552a5af99d1f4fb67d367b25f",
   "display_name": "Python 3.8.8 64-bit (conda)"
  }
 },
 "nbformat": 4,
 "nbformat_minor": 2,
 "cells": [
  {
   "cell_type": "code",
   "execution_count": 2,
   "metadata": {},
   "outputs": [],
   "source": [
    "import pandas as pd\n",
    "from math import sqrt\n"
   ]
  },
  {
   "cell_type": "code",
   "execution_count": 3,
   "metadata": {},
   "outputs": [],
   "source": [
    "oyuncular = {\"boy\":[175,177,178,181,182,183,184,188,190], \"deneyim\":[4,6,3,2,6,3,7,2,6], \"maas\":[12,18,15,16,24,20,28,34,32]}"
   ]
  },
  {
   "cell_type": "code",
   "execution_count": 4,
   "metadata": {},
   "outputs": [],
   "source": [
    "df = pd.DataFrame(oyuncular)"
   ]
  },
  {
   "cell_type": "code",
   "execution_count": 5,
   "metadata": {},
   "outputs": [
    {
     "output_type": "execute_result",
     "data": {
      "text/plain": [
       "   boy  deneyim  maas\n",
       "0  175        4    12\n",
       "1  177        6    18\n",
       "2  178        3    15\n",
       "3  181        2    16\n",
       "4  182        6    24\n",
       "5  183        3    20\n",
       "6  184        7    28\n",
       "7  188        2    34\n",
       "8  190        6    32"
      ],
      "text/html": "<div>\n<style scoped>\n    .dataframe tbody tr th:only-of-type {\n        vertical-align: middle;\n    }\n\n    .dataframe tbody tr th {\n        vertical-align: top;\n    }\n\n    .dataframe thead th {\n        text-align: right;\n    }\n</style>\n<table border=\"1\" class=\"dataframe\">\n  <thead>\n    <tr style=\"text-align: right;\">\n      <th></th>\n      <th>boy</th>\n      <th>deneyim</th>\n      <th>maas</th>\n    </tr>\n  </thead>\n  <tbody>\n    <tr>\n      <th>0</th>\n      <td>175</td>\n      <td>4</td>\n      <td>12</td>\n    </tr>\n    <tr>\n      <th>1</th>\n      <td>177</td>\n      <td>6</td>\n      <td>18</td>\n    </tr>\n    <tr>\n      <th>2</th>\n      <td>178</td>\n      <td>3</td>\n      <td>15</td>\n    </tr>\n    <tr>\n      <th>3</th>\n      <td>181</td>\n      <td>2</td>\n      <td>16</td>\n    </tr>\n    <tr>\n      <th>4</th>\n      <td>182</td>\n      <td>6</td>\n      <td>24</td>\n    </tr>\n    <tr>\n      <th>5</th>\n      <td>183</td>\n      <td>3</td>\n      <td>20</td>\n    </tr>\n    <tr>\n      <th>6</th>\n      <td>184</td>\n      <td>7</td>\n      <td>28</td>\n    </tr>\n    <tr>\n      <th>7</th>\n      <td>188</td>\n      <td>2</td>\n      <td>34</td>\n    </tr>\n    <tr>\n      <th>8</th>\n      <td>190</td>\n      <td>6</td>\n      <td>32</td>\n    </tr>\n  </tbody>\n</table>\n</div>"
     },
     "metadata": {},
     "execution_count": 5
    }
   ],
   "source": [
    "df"
   ]
  },
  {
   "cell_type": "code",
   "execution_count": 6,
   "metadata": {},
   "outputs": [
    {
     "output_type": "execute_result",
     "data": {
      "text/plain": [
       "22.11111111111111"
      ]
     },
     "metadata": {},
     "execution_count": 6
    }
   ],
   "source": [
    "df.maas.mean()"
   ]
  },
  {
   "cell_type": "code",
   "execution_count": 7,
   "metadata": {},
   "outputs": [
    {
     "output_type": "execute_result",
     "data": {
      "text/plain": [
       "0   -10.111111\n",
       "1    -4.111111\n",
       "2    -7.111111\n",
       "3    -6.111111\n",
       "4     1.888889\n",
       "5    -2.111111\n",
       "6     5.888889\n",
       "7    11.888889\n",
       "8     9.888889\n",
       "Name: maas, dtype: float64"
      ]
     },
     "metadata": {},
     "execution_count": 7
    }
   ],
   "source": [
    "df.maas-df.maas.mean()"
   ]
  },
  {
   "source": [
    "# Mean Model"
   ],
   "cell_type": "markdown",
   "metadata": {}
  },
  {
   "cell_type": "code",
   "execution_count": 9,
   "metadata": {},
   "outputs": [
    {
     "output_type": "execute_result",
     "data": {
      "text/plain": [
       "488.88888888888886"
      ]
     },
     "metadata": {},
     "execution_count": 9
    }
   ],
   "source": [
    "(df.maas-df.maas.mean()).pow(2).sum()"
   ]
  },
  {
   "source": [
    "# İlk Bölme\n"
   ],
   "cell_type": "markdown",
   "metadata": {}
  },
  {
   "cell_type": "code",
   "execution_count": 10,
   "metadata": {},
   "outputs": [],
   "source": [
    "filt = (df.boy <=180)"
   ]
  },
  {
   "cell_type": "code",
   "execution_count": 11,
   "metadata": {},
   "outputs": [],
   "source": [
    "df1 = df[filt]"
   ]
  },
  {
   "cell_type": "code",
   "execution_count": 17,
   "metadata": {},
   "outputs": [],
   "source": [
    "df2 = df[~filt]"
   ]
  },
  {
   "cell_type": "code",
   "execution_count": 18,
   "metadata": {},
   "outputs": [
    {
     "output_type": "execute_result",
     "data": {
      "text/plain": [
       "   boy  deneyim  maas\n",
       "0  175        4    12\n",
       "1  177        6    18\n",
       "2  178        3    15"
      ],
      "text/html": "<div>\n<style scoped>\n    .dataframe tbody tr th:only-of-type {\n        vertical-align: middle;\n    }\n\n    .dataframe tbody tr th {\n        vertical-align: top;\n    }\n\n    .dataframe thead th {\n        text-align: right;\n    }\n</style>\n<table border=\"1\" class=\"dataframe\">\n  <thead>\n    <tr style=\"text-align: right;\">\n      <th></th>\n      <th>boy</th>\n      <th>deneyim</th>\n      <th>maas</th>\n    </tr>\n  </thead>\n  <tbody>\n    <tr>\n      <th>0</th>\n      <td>175</td>\n      <td>4</td>\n      <td>12</td>\n    </tr>\n    <tr>\n      <th>1</th>\n      <td>177</td>\n      <td>6</td>\n      <td>18</td>\n    </tr>\n    <tr>\n      <th>2</th>\n      <td>178</td>\n      <td>3</td>\n      <td>15</td>\n    </tr>\n  </tbody>\n</table>\n</div>"
     },
     "metadata": {},
     "execution_count": 18
    }
   ],
   "source": [
    "df1"
   ]
  },
  {
   "cell_type": "code",
   "execution_count": 13,
   "metadata": {},
   "outputs": [
    {
     "output_type": "execute_result",
     "data": {
      "text/plain": [
       "15.0"
      ]
     },
     "metadata": {},
     "execution_count": 13
    }
   ],
   "source": [
    "df1.maas.mean()"
   ]
  },
  {
   "cell_type": "code",
   "execution_count": 21,
   "metadata": {},
   "outputs": [
    {
     "output_type": "execute_result",
     "data": {
      "text/plain": [
       "25.666666666666668"
      ]
     },
     "metadata": {},
     "execution_count": 21
    }
   ],
   "source": [
    "df2.maas.mean()"
   ]
  },
  {
   "source": [
    "# İlk Bölme: Error"
   ],
   "cell_type": "markdown",
   "metadata": {}
  },
  {
   "cell_type": "code",
   "execution_count": 23,
   "metadata": {},
   "outputs": [
    {
     "output_type": "execute_result",
     "data": {
      "text/plain": [
       "261.3333333333333"
      ]
     },
     "metadata": {},
     "execution_count": 23
    }
   ],
   "source": [
    "(df1.maas-df1.maas.mean()).pow(2).sum() + (df2.maas-df2.maas.mean()).pow(2).sum()"
   ]
  },
  {
   "source": [
    "# İkinci Bölme"
   ],
   "cell_type": "markdown",
   "metadata": {}
  },
  {
   "cell_type": "code",
   "execution_count": 26,
   "metadata": {},
   "outputs": [],
   "source": [
    "filt2 = (df2.boy <= 185)"
   ]
  },
  {
   "cell_type": "code",
   "execution_count": 27,
   "metadata": {},
   "outputs": [],
   "source": [
    "df3 = df2[filt2]"
   ]
  },
  {
   "cell_type": "code",
   "execution_count": 28,
   "metadata": {},
   "outputs": [],
   "source": [
    "df4 = df2[filt2]"
   ]
  },
  {
   "cell_type": "code",
   "execution_count": 29,
   "metadata": {},
   "outputs": [
    {
     "output_type": "execute_result",
     "data": {
      "text/plain": [
       "22.0"
      ]
     },
     "metadata": {},
     "execution_count": 29
    }
   ],
   "source": [
    "df3.maas.mean()"
   ]
  },
  {
   "cell_type": "code",
   "execution_count": 30,
   "metadata": {},
   "outputs": [
    {
     "output_type": "execute_result",
     "data": {
      "text/plain": [
       "   boy  deneyim  maas\n",
       "3  181        2    16\n",
       "4  182        6    24\n",
       "5  183        3    20\n",
       "6  184        7    28"
      ],
      "text/html": "<div>\n<style scoped>\n    .dataframe tbody tr th:only-of-type {\n        vertical-align: middle;\n    }\n\n    .dataframe tbody tr th {\n        vertical-align: top;\n    }\n\n    .dataframe thead th {\n        text-align: right;\n    }\n</style>\n<table border=\"1\" class=\"dataframe\">\n  <thead>\n    <tr style=\"text-align: right;\">\n      <th></th>\n      <th>boy</th>\n      <th>deneyim</th>\n      <th>maas</th>\n    </tr>\n  </thead>\n  <tbody>\n    <tr>\n      <th>3</th>\n      <td>181</td>\n      <td>2</td>\n      <td>16</td>\n    </tr>\n    <tr>\n      <th>4</th>\n      <td>182</td>\n      <td>6</td>\n      <td>24</td>\n    </tr>\n    <tr>\n      <th>5</th>\n      <td>183</td>\n      <td>3</td>\n      <td>20</td>\n    </tr>\n    <tr>\n      <th>6</th>\n      <td>184</td>\n      <td>7</td>\n      <td>28</td>\n    </tr>\n  </tbody>\n</table>\n</div>"
     },
     "metadata": {},
     "execution_count": 30
    }
   ],
   "source": [
    "df4"
   ]
  },
  {
   "cell_type": "code",
   "execution_count": 31,
   "metadata": {},
   "outputs": [
    {
     "output_type": "execute_result",
     "data": {
      "text/plain": [
       "22.0"
      ]
     },
     "metadata": {},
     "execution_count": 31
    }
   ],
   "source": [
    "df4.maas.mean()"
   ]
  },
  {
   "source": [
    "# İkinci Bölme: Error"
   ],
   "cell_type": "markdown",
   "metadata": {}
  },
  {
   "cell_type": "code",
   "execution_count": 32,
   "metadata": {},
   "outputs": [
    {
     "output_type": "execute_result",
     "data": {
      "text/plain": [
       "178.0"
      ]
     },
     "metadata": {},
     "execution_count": 32
    }
   ],
   "source": [
    "(df1.maas-df1.maas.mean()).pow(2).sum() + (df3.maas-df3.maas.mean()).pow(2).sum() + (df4.maas-df4.maas.mean()).pow(2).sum()"
   ]
  },
  {
   "source": [
    "# Üçüncü Bölme"
   ],
   "cell_type": "markdown",
   "metadata": {}
  },
  {
   "cell_type": "code",
   "execution_count": 33,
   "metadata": {},
   "outputs": [],
   "source": [
    "filt3 = (df3.deneyim <=5)"
   ]
  },
  {
   "cell_type": "code",
   "execution_count": 34,
   "metadata": {},
   "outputs": [],
   "source": [
    "df5 = df3[filt3]"
   ]
  },
  {
   "cell_type": "code",
   "execution_count": 35,
   "metadata": {},
   "outputs": [],
   "source": [
    "df6 = df3[~filt3]"
   ]
  },
  {
   "cell_type": "code",
   "execution_count": 36,
   "metadata": {},
   "outputs": [
    {
     "output_type": "execute_result",
     "data": {
      "text/plain": [
       "   boy  deneyim  maas\n",
       "3  181        2    16\n",
       "5  183        3    20"
      ],
      "text/html": "<div>\n<style scoped>\n    .dataframe tbody tr th:only-of-type {\n        vertical-align: middle;\n    }\n\n    .dataframe tbody tr th {\n        vertical-align: top;\n    }\n\n    .dataframe thead th {\n        text-align: right;\n    }\n</style>\n<table border=\"1\" class=\"dataframe\">\n  <thead>\n    <tr style=\"text-align: right;\">\n      <th></th>\n      <th>boy</th>\n      <th>deneyim</th>\n      <th>maas</th>\n    </tr>\n  </thead>\n  <tbody>\n    <tr>\n      <th>3</th>\n      <td>181</td>\n      <td>2</td>\n      <td>16</td>\n    </tr>\n    <tr>\n      <th>5</th>\n      <td>183</td>\n      <td>3</td>\n      <td>20</td>\n    </tr>\n  </tbody>\n</table>\n</div>"
     },
     "metadata": {},
     "execution_count": 36
    }
   ],
   "source": [
    "df5"
   ]
  },
  {
   "cell_type": "code",
   "execution_count": 37,
   "metadata": {},
   "outputs": [
    {
     "output_type": "execute_result",
     "data": {
      "text/plain": [
       "18.0"
      ]
     },
     "metadata": {},
     "execution_count": 37
    }
   ],
   "source": [
    "df5.maas.mean()"
   ]
  },
  {
   "cell_type": "code",
   "execution_count": 38,
   "metadata": {},
   "outputs": [
    {
     "output_type": "execute_result",
     "data": {
      "text/plain": [
       "   boy  deneyim  maas\n",
       "4  182        6    24\n",
       "6  184        7    28"
      ],
      "text/html": "<div>\n<style scoped>\n    .dataframe tbody tr th:only-of-type {\n        vertical-align: middle;\n    }\n\n    .dataframe tbody tr th {\n        vertical-align: top;\n    }\n\n    .dataframe thead th {\n        text-align: right;\n    }\n</style>\n<table border=\"1\" class=\"dataframe\">\n  <thead>\n    <tr style=\"text-align: right;\">\n      <th></th>\n      <th>boy</th>\n      <th>deneyim</th>\n      <th>maas</th>\n    </tr>\n  </thead>\n  <tbody>\n    <tr>\n      <th>4</th>\n      <td>182</td>\n      <td>6</td>\n      <td>24</td>\n    </tr>\n    <tr>\n      <th>6</th>\n      <td>184</td>\n      <td>7</td>\n      <td>28</td>\n    </tr>\n  </tbody>\n</table>\n</div>"
     },
     "metadata": {},
     "execution_count": 38
    }
   ],
   "source": [
    "df6"
   ]
  },
  {
   "cell_type": "code",
   "execution_count": 39,
   "metadata": {},
   "outputs": [
    {
     "output_type": "execute_result",
     "data": {
      "text/plain": [
       "26.0"
      ]
     },
     "metadata": {},
     "execution_count": 39
    }
   ],
   "source": [
    "df6.maas.mean()"
   ]
  },
  {
   "source": [
    "# Üçüncü Bölme :Error"
   ],
   "cell_type": "markdown",
   "metadata": {}
  },
  {
   "cell_type": "code",
   "execution_count": null,
   "metadata": {},
   "outputs": [],
   "source": [
    "(df1.maas-df1.maas.mean()).pow(2).sum() + (df4.maas-df4.maas.mean()).pow(2).sum() + (df5.maas-df5.maas.mean()).pow(2).sum() + (df6.maas-df6.maas.mean()).pow(2).sum()\n"
   ]
  }
 ]
}